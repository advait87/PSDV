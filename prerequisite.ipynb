{
 "cells": [
  {
   "cell_type": "markdown",
   "id": "9637def1-cfc7-4d79-9c25-d3a40674d719",
   "metadata": {},
   "source": [
    "# Question 1"
   ]
  },
  {
   "cell_type": "code",
   "execution_count": 1,
   "id": "df458702-9dca-45b7-8502-102b994c9c45",
   "metadata": {},
   "outputs": [],
   "source": [
    "list_of_20_natural_numbers = [i for i in range(1, 21)]"
   ]
  },
  {
   "cell_type": "code",
   "execution_count": 3,
   "id": "3a3263d1-3ec3-4dc1-b057-6c967d06cb95",
   "metadata": {},
   "outputs": [
    {
     "name": "stdout",
     "output_type": "stream",
     "text": [
      "110\n"
     ]
    }
   ],
   "source": [
    "sum_of_even_numbers = sum(list_of_20_natural_numbers[1::2])\n",
    "print(sum_of_even_numbers)"
   ]
  },
  {
   "cell_type": "code",
   "execution_count": 4,
   "id": "53602095-9099-4e2e-b057-063ff6d9629b",
   "metadata": {},
   "outputs": [
    {
     "name": "stdout",
     "output_type": "stream",
     "text": [
      "654729075\n"
     ]
    }
   ],
   "source": [
    "product_of_odd_numbers = 1\n",
    "for i in list_of_20_natural_numbers[::2]:\n",
    "    product_of_odd_numbers *= i\n",
    "print(product_of_odd_numbers)"
   ]
  },
  {
   "cell_type": "code",
   "execution_count": 5,
   "id": "bee90723-a40d-45c7-abad-65b1a4f0a66c",
   "metadata": {},
   "outputs": [
    {
     "name": "stdout",
     "output_type": "stream",
     "text": [
      "10.5\n"
     ]
    }
   ],
   "source": [
    "mean_of_list = sum(list_of_20_natural_numbers)/len(list_of_20_natural_numbers)\n",
    "print(mean_of_list)"
   ]
  },
  {
   "cell_type": "code",
   "execution_count": 6,
   "id": "206728af-91fe-46ec-b6f0-9f86b6f0ea13",
   "metadata": {},
   "outputs": [
    {
     "name": "stdout",
     "output_type": "stream",
     "text": [
      "10.5\n"
     ]
    }
   ],
   "source": [
    "len_list = len(list_of_20_natural_numbers)\n",
    "median = list_of_20_natural_numbers[len_list//2] if len_list%2 else (list_of_20_natural_numbers[len_list//2 - 1] + list_of_20_natural_numbers[len_list//2])/2\n",
    "print(median)"
   ]
  },
  {
   "cell_type": "code",
   "execution_count": 7,
   "id": "8b5fd28c-d685-4ac4-a4e5-bd0e4a95f3aa",
   "metadata": {},
   "outputs": [
    {
     "name": "stdout",
     "output_type": "stream",
     "text": [
      "5.766281297335398\n"
     ]
    }
   ],
   "source": [
    "standard_deviation = (sum([(i-mean_of_list)**2 for i in list_of_20_natural_numbers])/len_list)**0.5\n",
    "print(standard_deviation)"
   ]
  },
  {
   "cell_type": "markdown",
   "id": "f565273d-becf-479d-a088-ad93e4ee44cf",
   "metadata": {},
   "source": [
    "# Question 2"
   ]
  },
  {
   "cell_type": "markdown",
   "id": "a99df680-51ab-4161-844a-a812ccc5eec2",
   "metadata": {},
   "source": [
    "## Mutable Data Types"
   ]
  },
  {
   "cell_type": "markdown",
   "id": "2a0c8099-4811-4779-8626-feba1b98cff0",
   "metadata": {},
   "source": [
    "Mutable data types are the datatypes which can be changed  without changing their memory location. For example, lists are mutable in python as shown from the code below."
   ]
  },
  {
   "cell_type": "code",
   "execution_count": 8,
   "id": "5c08b313-c1f8-4332-9c5a-0a8ba014c7b9",
   "metadata": {},
   "outputs": [
    {
     "name": "stdout",
     "output_type": "stream",
     "text": [
      "list_1 before mutating: [2, 4, 1, 5]\n",
      "list_1 after mutating: [3, 4, 1, 5]\n"
     ]
    }
   ],
   "source": [
    "list_1 = [2, 4, 1, 5]\n",
    "print(\"list_1 before mutating:\", list_1)\n",
    "list_1[0] = 3\n",
    "print(\"list_1 after mutating:\", list_1)"
   ]
  },
  {
   "cell_type": "markdown",
   "id": "4744f498-e205-43e2-83ce-780409500e7d",
   "metadata": {},
   "source": [
    "As you can see, I can reassign any index of a list without changing the whole list. This makes list mutable."
   ]
  },
  {
   "cell_type": "markdown",
   "id": "3288540a-8285-43b2-ac1d-f108c3c7059c",
   "metadata": {},
   "source": [
    "## Immutable Data Types"
   ]
  },
  {
   "cell_type": "markdown",
   "id": "c78fb1a3-a056-474d-a4c4-110842007e64",
   "metadata": {},
   "source": [
    "Immutable data types are the datatypes which cannot be changed  without changing their memory location. For example, strings are immutable in python as shown from the code below."
   ]
  },
  {
   "cell_type": "code",
   "execution_count": 9,
   "id": "449f6f29-3765-4b19-97a2-2e679d2553f4",
   "metadata": {},
   "outputs": [
    {
     "name": "stdout",
     "output_type": "stream",
     "text": [
      "Hi hello\n",
      "Hi hello\n"
     ]
    }
   ],
   "source": [
    "string_1 = \"Hi hello\"\n",
    "print(string_1)  \n",
    "# string_1[3] = \"j\"\n",
    "print(string_1)"
   ]
  },
  {
   "cell_type": "markdown",
   "id": "337cc719-fde2-4851-a9ed-1ea3234026a5",
   "metadata": {},
   "source": [
    "As you can see, trying to change character at any index of a string throws an error. This makes strings immutable."
   ]
  },
  {
   "cell_type": "markdown",
   "id": "31e59ed1-13dc-4ecc-9f0f-5e49162bc7cb",
   "metadata": {},
   "source": [
    "# Question 3"
   ]
  },
  {
   "cell_type": "code",
   "execution_count": 3,
   "id": "8004328b-5b6b-408c-9370-41578a83bdf3",
   "metadata": {},
   "outputs": [
    {
     "data": {
      "image/png": "[encoded data removed]",
      "text/plain": [
       "<Figure size 640x480 with 1 Axes>"
      ]
     },
     "metadata": {},
     "output_type": "display_data"
    }
   ],
   "source": [
    "import matplotlib.pyplot as patil\n",
    "def fibonacci(n):\n",
    "    if n == 1:\n",
    "        return 0\n",
    "    if n == 2:\n",
    "        return 1\n",
    "    return fibonacci(n-1) + fibonacci(n-2)\n",
    "x, y = [i for i in range(1, 11)], [fibonacci(i) for i in range(1, 11)]\n",
    "patil.plot(x, y)\n",
    "patil.show()"
   ]
  },
  {
   "cell_type": "markdown",
   "id": "d03081e9-80a4-44da-b6fb-e2406ae72455",
   "metadata": {},
   "source": [
    "# Question 4"
   ]
  },
  {
   "cell_type": "code",
   "execution_count": 6,
   "id": "bb276be5-73d7-428f-93ea-6c1d067d39d1",
   "metadata": {},
   "outputs": [
    {
     "name": "stdout",
     "output_type": "stream",
     "text": [
      "[13, 11, 9, 6, 5, 3]\n",
      "mean: 7.833333333333333\n",
      "median: 7.5\n"
     ]
    }
   ],
   "source": [
    "list_1 = [3, 5, 7, 9, 11, 13]\n",
    "list_1.insert(3, 6)\n",
    "list_1.remove(7)\n",
    "list_1.reverse()\n",
    "print(list_1)\n",
    "print(\"mean:\", sum(list_1)/len(list_1))\n",
    "list_1.sort()\n",
    "print(\"median:\", list_1[len(list_1)//2] if len(list_1)%2 else (list_1[len(list_1)//2 - 1] + list_1[len(list_1)//2])/2)"
   ]
  },
  {
   "cell_type": "markdown",
   "id": "22a588a4-68bf-4042-abca-0461c40e9021",
   "metadata": {},
   "source": [
    "# Question 5"
   ]
  },
  {
   "cell_type": "code",
   "execution_count": 9,
   "id": "78c97e39-430b-47e9-a8bd-8759fb5f8fe3",
   "metadata": {},
   "outputs": [
    {
     "name": "stdout",
     "output_type": "stream",
     "text": [
      " 10,20,30,40\n"
     ]
    },
    {
     "name": "stdout",
     "output_type": "stream",
     "text": [
      "mean: 25.0\n",
      "smallest: 10\n",
      "largest: 40\n"
     ]
    },
    {
     "data": {
      "image/png": "[encoded data removed]",
      "text/plain": [
       "<Figure size 640x480 with 1 Axes>"
      ]
     },
     "metadata": {},
     "output_type": "display_data"
    }
   ],
   "source": [
    "import matplotlib.pyplot as patil\n",
    "list_1 = list(map(int, input().split(\",\")))\n",
    "print(\"mean:\", sum(list_1)/len(list_1))\n",
    "print(\"smallest:\", min(list_1))\n",
    "print(\"largest:\", max(list_1))\n",
    "patil.hist(list_1)\n",
    "patil.show()"
   ]
  },
  {
   "cell_type": "markdown",
   "id": "903b866e-9813-414a-a641-8061d2130714",
   "metadata": {},
   "source": [
    "# Question 6"
   ]
  },
  {
   "cell_type": "code",
   "execution_count": 10,
   "id": "0c979029-452e-46a1-a92a-a318c839a211",
   "metadata": {},
   "outputs": [
    {
     "name": "stdout",
     "output_type": "stream",
     "text": [
      " A man a plan a canal Panama\n"
     ]
    },
    {
     "name": "stdout",
     "output_type": "stream",
     "text": [
      "True\n"
     ]
    }
   ],
   "source": [
    "mystr = input().replace(' ', '').upper()\n",
    "print(mystr == mystr[::-1])"
   ]
  },
  {
   "cell_type": "markdown",
   "id": "6524619d-2235-4b94-b9d5-9020569ee8aa",
   "metadata": {},
   "source": [
    "# Question 7"
   ]
  },
  {
   "cell_type": "code",
   "execution_count": 13,
   "id": "9e9ee152-0f97-4659-92ef-c764d0e41832",
   "metadata": {},
   "outputs": [
    {
     "name": "stdout",
     "output_type": "stream",
     "text": [
      "Average: 69.66666666666667\n",
      "List of students scoring above average: ['Advait']\n"
     ]
    },
    {
     "data": {
      "image/png": "[encoded data removed]",
      "text/plain": [
       "<Figure size 640x480 with 1 Axes>"
      ]
     },
     "metadata": {},
     "output_type": "display_data"
    }
   ],
   "source": [
    "import matplotlib.pyplot as patil\n",
    "students = {\n",
    "    'Advait': 100,\n",
    "    'Ayush': 69,\n",
    "    'Aditya': 40\n",
    "}\n",
    "average = sum(students.values())/len(students)\n",
    "print(\"Average:\", average)\n",
    "print(\"List of students scoring above average:\", list(filter(lambda student: students[student] > average, students)))\n",
    "patil.bar(students.keys(), students.values())\n",
    "patil.show()"
   ]
  },
  {
   "cell_type": "markdown",
   "id": "59890aa7-8dff-4d53-8e4e-a6c9fa60adb4",
   "metadata": {},
   "source": [
    "# Question 8"
   ]
  },
  {
   "cell_type": "code",
   "execution_count": 19,
   "id": "d98a2f0b-c816-4f6e-8a35-01da07307414",
   "metadata": {},
   "outputs": [
    {
     "data": {
      "image/png": "[encoded data removed]",
      "text/plain": [
       "<Figure size 640x480 with 1 Axes>"
      ]
     },
     "metadata": {},
     "output_type": "display_data"
    }
   ],
   "source": [
    "import matplotlib.pyplot as patil\n",
    "points = [(i, i**2) for i in range(1, 11)]\n",
    "patil.scatter([point[0]for point in points], [point[1] for point in points])\n",
    "patil.show()"
   ]
  },
  {
   "cell_type": "markdown",
   "id": "4e900e2e-818e-45d8-8b84-dc6c42bf5fb3",
   "metadata": {},
   "source": [
    "# Question 9"
   ]
  },
  {
   "cell_type": "code",
   "execution_count": 4,
   "id": "8f60fe92-79d4-4dcf-81bd-e619c4075647",
   "metadata": {},
   "outputs": [
    {
     "name": "stdout",
     "output_type": "stream",
     "text": [
      "{'a': 10, 'b': 25, 'c': 15}\n"
     ]
    }
   ],
   "source": [
    "dict_1 = {'a': 10, 'b': 20}\n",
    "dict_2 = {'b': 5, 'c': 15}\n",
    "for i in dict_2:\n",
    "    dict_1[i] = dict_1[i] + dict_2[i] if i in dict_1 else dict_2[i]\n",
    "\n",
    "print(dict_1)"
   ]
  },
  {
   "cell_type": "markdown",
   "id": "4ede8167-c6fa-4f70-8bd9-2932f094ea7e",
   "metadata": {},
   "source": [
    "# Question 10"
   ]
  },
  {
   "cell_type": "code",
   "execution_count": 6,
   "id": "efd16f4c-3492-4450-9f63-ae73c0b6bac9",
   "metadata": {},
   "outputs": [
    {
     "data": {
      "image/png": "[encoded data removed]",
      "text/plain": [
       "<Figure size 640x480 with 1 Axes>"
      ]
     },
     "metadata": {},
     "output_type": "display_data"
    },
    {
     "data": {
      "text/plain": [
       "{'h': 1, 'e': 1, 'l': 3, 'o': 2, ' ': 1, 'w': 1, 'r': 1, 'd': 1, '!': 1}"
      ]
     },
     "execution_count": 6,
     "metadata": {},
     "output_type": "execute_result"
    }
   ],
   "source": [
    "import matplotlib.pyplot as patil\n",
    "def myfunc(string):\n",
    "    string = string.lower()\n",
    "    mydict = {}\n",
    "    for c in string:\n",
    "        mydict[c] = mydict[c] + 1 if c in mydict else 1\n",
    "    patil.bar(mydict.keys(), mydict.values())\n",
    "    patil.show()\n",
    "    return mydict\n",
    "myfunc(\"Hello World!\")\n",
    "    "
   ]
  },
  {
   "cell_type": "markdown",
   "id": "d96d91c0-a5ab-4869-a70f-6f43281db648",
   "metadata": {},
   "source": [
    "# Question 11"
   ]
  },
  {
   "cell_type": "code",
   "execution_count": 1,
   "id": "1046d1b8-b93e-4257-b0d4-d441762efa7a",
   "metadata": {},
   "outputs": [
    {
     "name": "stdout",
     "output_type": "stream",
     "text": [
      "mean: 4.666666666666667\n",
      "median 4.0\n"
     ]
    }
   ],
   "source": [
    "def removeDuplicates(list_1):\n",
    "    list_2 = []\n",
    "    for i in list_1:\n",
    "        if i in list_2:\n",
    "            continue\n",
    "        list_2.append(i)\n",
    "    list_1 = list_2\n",
    "    print(\"mean:\", sum(list_2)/len(list_2))\n",
    "    list_2.sort()\n",
    "    len_list = len(list_2)\n",
    "    print(\"median\", list_2[len(list_2)//2] if len(list_2)%2 else (list_2[len(list_2)//2 - 1] + list_1[len(list_2)//2])/2)\n",
    "removeDuplicates([3, 5, 1, 2, 8, 2, 9])\n"
   ]
  },
  {
   "cell_type": "markdown",
   "id": "9884a6aa-3bf9-48c9-9686-231564585359",
   "metadata": {},
   "source": [
    "# Question 12"
   ]
  },
  {
   "cell_type": "code",
   "execution_count": 7,
   "id": "488924e9-2c91-4a6a-9456-f166ab77dcb1",
   "metadata": {},
   "outputs": [
    {
     "name": "stdout",
     "output_type": "stream",
     "text": [
      "number of strings starting with vowel: 1\n"
     ]
    },
    {
     "data": {
      "image/png": "[encoded data removed]",
      "text/plain": [
       "<Figure size 640x480 with 1 Axes>"
      ]
     },
     "metadata": {},
     "output_type": "display_data"
    }
   ],
   "source": [
    "import matplotlib.pyplot as patil\n",
    "def myfunc(list_str):\n",
    "    list_str.sort(key=len)\n",
    "    print(\"number of strings starting with vowel:\", len(list(filter(lambda string: string[0] in ['a', 'e', 'i', 'o', 'u'], list_str))))\n",
    "    patil.hist(list_str, [len(i) for i in list_str])\n",
    "    patil.show()\n",
    "myfunc(['hi  ', 'hiloijlksfdk', 'iks', 'j'])"
   ]
  },
  {
   "cell_type": "markdown",
   "id": "89aa47b5-777a-41e5-beca-8feae4651157",
   "metadata": {},
   "source": [
    "# Question 13"
   ]
  },
  {
   "cell_type": "code",
   "execution_count": 12,
   "id": "25c559d2-ed3b-4423-9b37-49fda7941c8e",
   "metadata": {},
   "outputs": [
    {
     "name": "stdout",
     "output_type": "stream",
     "text": [
      "[{'name': 'Aba', 'age': 13}, {'name': 'Bob', 'age': 22}, {'name': 'Alice', 'age': 25}]\n"
     ]
    }
   ],
   "source": [
    "def sort_by_key(_list, key):\n",
    "    for i in range(len(_list)):\n",
    "        for j in range(i, len(_list)):\n",
    "            if _list[j][key] < _list[i][key]:\n",
    "                _list[i], _list[j] = _list[j], _list[i]\n",
    "data = [{'name': 'Alice', 'age': 25}, {'name': 'Bob', 'age': 22}, {'name': 'Aba', 'age': 13}]\n",
    "sort_by_key(data, 'age')\n",
    "print(data)"
   ]
  },
  {
   "cell_type": "markdown",
   "id": "cb5fe555-efd8-4023-9774-563943459647",
   "metadata": {},
   "source": [
    "# Question 14"
   ]
  },
  {
   "cell_type": "code",
   "execution_count": 2,
   "id": "7e8d6f98-0ac2-4987-8d81-293886e45de6",
   "metadata": {},
   "outputs": [
    {
     "name": "stdout",
     "output_type": "stream",
     "text": [
      "['hello', 'everyone']\n"
     ]
    },
    {
     "data": {
      "image/png": "[encoded data removed]",
      "text/plain": [
       "<Figure size 640x480 with 1 Axes>"
      ]
     },
     "metadata": {},
     "output_type": "display_data"
    }
   ],
   "source": [
    "import matplotlib.pyplot as patil\n",
    "def filter_and_sort(string):\n",
    "    string = [i for i in string.split() if len(i) >= 4]\n",
    "    \n",
    "    print(string)\n",
    "    string.sort()\n",
    "    patil.bar(string, [len(i) for i in string])\n",
    "    patil.show()\n",
    "filter_and_sort(\"hi hello everyone how are you\")"
   ]
  },
  {
   "cell_type": "markdown",
   "id": "22b28c4d-34f8-4146-b4b1-19226ec73030",
   "metadata": {},
   "source": [
    "# Question 15"
   ]
  },
  {
   "cell_type": "code",
   "execution_count": 4,
   "id": "dfdae929-1e0e-4b03-bdec-f0c6b62410c6",
   "metadata": {},
   "outputs": [
    {
     "name": "stdout",
     "output_type": "stream",
     "text": [
      "['enlist', 'inlets']\n"
     ]
    }
   ],
   "source": [
    "def anagrams(word, words):\n",
    "    ans = []\n",
    "    for i in words:\n",
    "        if \"\".join(sorted(list(word))) == \"\".join(sorted(list(i))):\n",
    "            ans.append(i)\n",
    "    return ans\n",
    "print(anagrams(\"listen\", [\"enlist\", \"google\", \"inlets\", \"banana\"]))"
   ]
  },
  {
   "cell_type": "markdown",
   "id": "c3aa11d5-3ff6-42ef-b082-139afc18ad3b",
   "metadata": {},
   "source": [
    "# Question 17"
   ]
  },
  {
   "cell_type": "code",
   "execution_count": 6,
   "id": "89710a16-5c09-4878-843b-1f25a48468df",
   "metadata": {},
   "outputs": [
    {
     "name": "stdout",
     "output_type": "stream",
     "text": [
      "The sum of the numbers is: 409\n"
     ]
    }
   ],
   "source": [
    "nums = [23 ,52, 12 ,5, 12, 5, 63, 3, 234]\n",
    "with open('nums.txt', 'w') as file:\n",
    "    for num in nums:\n",
    "        file.write(f\"{num}\\n\")\n",
    "total_sum = 0\n",
    "with open('nums.txt', 'r') as file:\n",
    "    for line in file:\n",
    "        total_sum += int(line.strip())\n",
    "\n",
    "print(\"The sum of the numbers is:\", total_sum)"
   ]
  },
  {
   "cell_type": "markdown",
   "id": "b94e2742-b658-499e-a25b-599e1e1a6a5a",
   "metadata": {},
   "source": [
    "# Question 18"
   ]
  },
  {
   "cell_type": "code",
   "execution_count": 11,
   "id": "55fda464-b1b6-4003-b8d8-9ebc1af29574",
   "metadata": {},
   "outputs": [
    {
     "name": "stdout",
     "output_type": "stream",
     "text": [
      "why\n"
     ]
    },
    {
     "data": {
      "image/png": "[encoded data removed]",
      "text/plain": [
       "<Figure size 640x480 with 1 Axes>"
      ]
     },
     "metadata": {},
     "output_type": "display_data"
    }
   ],
   "source": [
    "import matplotlib.pyplot as patil\n",
    "words_dict = {}\n",
    "with open(\"text.txt\", \"r\") as file:\n",
    "    for line in file:\n",
    "        for word in line.strip().split():\n",
    "            words_dict[word] = words_dict[word] + 1 if word in words_dict else 1\n",
    "print(max(words_dict, key = words_dict.get))\n",
    "patil.bar(words_dict.keys(), words_dict.values())\n",
    "patil.show()"
   ]
  },
  {
   "cell_type": "markdown",
   "id": "2c1fbc17-5047-4d08-bde3-2f9385bd235b",
   "metadata": {},
   "source": [
    "# Question 19"
   ]
  },
  {
   "cell_type": "code",
   "execution_count": 2,
   "id": "649083d1-b685-4133-ac10-0c77e489d05e",
   "metadata": {},
   "outputs": [
    {
     "name": "stdout",
     "output_type": "stream",
     "text": [
      "24.79\n"
     ]
    },
    {
     "data": {
      "image/png": "[encoded data removed]",
      "text/plain": [
       "<Figure size 640x480 with 1 Axes>"
      ]
     },
     "metadata": {},
     "output_type": "display_data"
    }
   ],
   "source": [
    "import numpy as np\n",
    "import matplotlib.pyplot as patil\n",
    "_100_integers = list(map(int, np.random.rand(100) * 50))\n",
    "with open(\"100_integers.txt\", 'w') as file:\n",
    "    for i in _100_integers:\n",
    "        file.write(f\"{i}\\n\")\n",
    "total = 0\n",
    "with open(\"100_integers.txt\", 'r') as file:\n",
    "    for line in file:\n",
    "        total += int(line.strip())\n",
    "print(total/100)\n",
    "patil.bar([i for i in range(1, 101)], _100_integers)\n",
    "patil.show()"
   ]
  },
  {
   "cell_type": "markdown",
   "id": "7079f272-90b7-42c4-bab9-53a5a565401c",
   "metadata": {},
   "source": [
    "# Question 21"
   ]
  },
  {
   "cell_type": "code",
   "execution_count": 3,
   "id": "becbfe95-1af7-42dd-9043-5468c2a5e2ad",
   "metadata": {},
   "outputs": [
    {
     "name": "stdout",
     "output_type": "stream",
     "text": [
      "mean: 3.3333333333333335\n",
      "median: 4\n",
      "mode: 1\n",
      "standard deviation: 1.7950549357115013\n"
     ]
    },
    {
     "data": {
      "image/png": "[encoded data removed]",
      "text/plain": [
       "<Figure size 640x480 with 1 Axes>"
      ]
     },
     "metadata": {},
     "output_type": "display_data"
    }
   ],
   "source": [
    "import matplotlib.pyplot as plt\n",
    "\n",
    "def mean(_list):\n",
    "    return sum(_list) / len(_list)\n",
    "def median(_list):\n",
    "    return sorted(_list)[len(_list) // 2]\n",
    "def mode(_list):\n",
    "    return max(set(_list), key=list(_list).count)\n",
    "def standard_deviation(_list):\n",
    "    return (sum([(x - mean(_list))**2 for x in _list]) / len(_list)) ** 0.5\n",
    "\n",
    "list_1 = [1, 2, 3, 4, 5, 4, 4, 3, 1, 5, 7, 1]\n",
    "print(\"mean:\", mean(list_1))\n",
    "print(\"median:\", median(list_1))\n",
    "print(\"mode:\", mode(list_1))\n",
    "print(\"standard deviation:\", standard_deviation(list_1))\n",
    "\n",
    "plt.boxplot([list_1])\n",
    "plt.show()"
   ]
  },
  {
   "cell_type": "markdown",
   "id": "9e8277b7",
   "metadata": {},
   "source": [
    "# Question 23"
   ]
  },
  {
   "cell_type": "code",
   "execution_count": 4,
   "id": "8ec917ca",
   "metadata": {},
   "outputs": [
    {
     "name": "stdout",
     "output_type": "stream",
     "text": [
      "Even\n"
     ]
    }
   ],
   "source": [
    "num = int(input(\"Enter a number: \"))\n",
    "\n",
    "if num % 2 == 0:\n",
    "    print(\"Even\")\n",
    "else:\n",
    "    print(\"Odd\")"
   ]
  },
  {
   "cell_type": "markdown",
   "id": "179b6400",
   "metadata": {},
   "source": [
    "# Question 24"
   ]
  },
  {
   "cell_type": "code",
   "execution_count": 4,
   "id": "79572469",
   "metadata": {},
   "outputs": [
    {
     "name": "stdout",
     "output_type": "stream",
     "text": [
      "Enter your numerical grade:  99\n"
     ]
    },
    {
     "name": "stdout",
     "output_type": "stream",
     "text": [
      "A\n"
     ]
    }
   ],
   "source": [
    "marks = int(input(\"Enter your numerical grade: \"))\n",
    "\n",
    "if marks >= 90 and marks <= 100:\n",
    "    print(\"A\")\n",
    "elif marks >= 80:\n",
    "    print(\"B\")\n",
    "elif marks >= 70:\n",
    "    print(\"C\")\n",
    "elif marks >= 60:\n",
    "    print(\"D\")\n",
    "elif marks >= 0:\n",
    "    print(\"F\")\n",
    "else:\n",
    "    print(\"Invalid input\")"
   ]
  },
  {
   "cell_type": "markdown",
   "id": "96af6afc-95f2-49b5-a042-49a35ef63894",
   "metadata": {},
   "source": [
    "# Question 25"
   ]
  },
  {
   "cell_type": "code",
   "execution_count": 5,
   "id": "c107786f-e625-4791-b7c8-a82d0af6044a",
   "metadata": {},
   "outputs": [
    {
     "name": "stdin",
     "output_type": "stream",
     "text": [
      "Enter a year:  2025\n"
     ]
    },
    {
     "name": "stdout",
     "output_type": "stream",
     "text": [
      "2025 is not a leap year\n"
     ]
    }
   ],
   "source": [
    "def leap_year_checker(year):\n",
    "    if year % 4 == 0:\n",
    "        if year % 100 == 0:\n",
    "            if year % 400 == 0:\n",
    "                return True\n",
    "            else:\n",
    "                return False\n",
    "        else:\n",
    "            return True\n",
    "    else:\n",
    "        return False\n",
    "    \n",
    "year = int(input(\"Enter a year: \"))\n",
    "if leap_year_checker(year):\n",
    "    print(year, \"is a leap year\")\n",
    "else:\n",
    "    print(year, \"is not a leap year\")"
   ]
  },
  {
   "cell_type": "code",
   "execution_count": null,
   "id": "1ea591c1-4004-4e25-835c-b7a0df75a462",
   "metadata": {},
   "outputs": [],
   "source": []
  }
 ],
 "metadata": {
  "kernelspec": {
   "display_name": "Python 3 (ipykernel)",
   "language": "python",
   "name": "python3"
  },
  "language_info": {
   "codemirror_mode": {
    "name": "ipython",
    "version": 3
   },
   "file_extension": ".py",
   "mimetype": "text/x-python",
   "name": "python",
   "nbconvert_exporter": "python",
   "pygments_lexer": "ipython3",
   "version": "3.13.1"
  }
 },
 "nbformat": 4,
 "nbformat_minor": 5
}
